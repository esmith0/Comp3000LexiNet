{
    "metadata": {
        "kernelspec": {
            "name": "SQL",
            "display_name": "SQL",
            "language": "sql"
        },
        "language_info": {
            "name": "sql",
            "version": ""
        }
    },
    "nbformat_minor": 2,
    "nbformat": 4,
    "cells": [
        {
            "cell_type": "markdown",
            "source": [
                "Code for the SQL database set up"
            ],
            "metadata": {
                "azdata_cell_guid": "9039f9cd-70e3-48c6-9852-f3510062c28f"
            }
        },
        {
            "cell_type": "code",
            "source": [
                "CREATE TABLE UserTbl(\r\n",
                "\tuserID int IDENTITY(1,1) PRIMARY KEY,\r\n",
                "\tusername varchar(255) NOT NULL,\r\n",
                "\tpassword varchar(255) NOT NULL\r\n",
                ");\r\n",
                "CREATE TABLE ResourcesTbl(\r\n",
                "\tresourceID int IDENTITY(1,1) PRIMARY KEY,\r\n",
                "\tresourceName varchar(255) NOT NULL,\r\n",
                "\tresourceType varchar(255) NOT NULL,\r\n",
                "\tuserID int FOREIGN KEY REFERENCES UserTbl(userID)\r\n",
                ");\r\n",
                "CREATE TABLE FeedbackTbl(\r\n",
                "\tfeebackID int IDENTITY(1,1) PRIMARY KEY,\r\n",
                "\treadabilityRating int,\r\n",
                "\tspacingRating int,\r\n",
                "\tcolourRating int,\r\n",
                "\tuserID int FOREIGN KEY REFERENCES UserTbl(userID),\r\n",
                "\tresourceID int FOREIGN KEY REFERENCES ResourcesTbl(resourceID)\r\n",
                ");\r\n",
                ""
            ],
            "metadata": {
                "azdata_cell_guid": "0829545b-b3db-48d6-ba08-0812fb8328d7"
            },
            "outputs": [],
            "execution_count": null
        },
        {
            "cell_type": "markdown",
            "source": [
                "View: resources and their ratings"
            ],
            "metadata": {
                "azdata_cell_guid": "9242f331-9122-47a4-8713-74c200ccbabe"
            }
        },
        {
            "cell_type": "code",
            "source": [
                "CREATE VIEW resourceReviews AS\r\n",
                "SELECT resourceName, resourceType, readabilityRating, spacingRating, colourRating\r\n",
                "FROM ResourcesTbl, FeedbackTbl\r\n",
                "WHERE resourceID.ResourcesTbl = resourceID.FeedbackTbl;"
            ],
            "metadata": {
                "azdata_cell_guid": "8b803950-0b56-4060-ba41-053c2e324292",
                "tags": []
            },
            "outputs": [],
            "execution_count": null
        }
    ]
}